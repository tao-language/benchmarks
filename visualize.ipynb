{
  "cells": [
    {
      "cell_type": "markdown",
      "metadata": {
        "id": "5WmTkQ30XgP-"
      },
      "source": [
        "# Benchmark results"
      ]
    },
    {
      "cell_type": "code",
      "execution_count": 98,
      "metadata": {
        "colab": {
          "base_uri": "https://localhost:8080/",
          "height": 424
        },
        "id": "ce1jVYyqXj8b",
        "outputId": "a6d4a44d-9d29-42aa-ae19-2acf47298c92"
      },
      "outputs": [
        {
          "data": {
            "text/html": [
              "\n",
              "  <div id=\"df-e940f26b-393a-4274-a0e8-ed8d31ecb569\">\n",
              "    <div class=\"colab-df-container\">\n",
              "      <div>\n",
              "<style scoped>\n",
              "    .dataframe tbody tr th:only-of-type {\n",
              "        vertical-align: middle;\n",
              "    }\n",
              "\n",
              "    .dataframe tbody tr th {\n",
              "        vertical-align: top;\n",
              "    }\n",
              "\n",
              "    .dataframe thead th {\n",
              "        text-align: right;\n",
              "    }\n",
              "</style>\n",
              "<table border=\"1\" class=\"dataframe\">\n",
              "  <thead>\n",
              "    <tr style=\"text-align: right;\">\n",
              "      <th></th>\n",
              "      <th>name</th>\n",
              "      <th>language</th>\n",
              "      <th>phase</th>\n",
              "      <th>time</th>\n",
              "      <th>memory</th>\n",
              "    </tr>\n",
              "  </thead>\n",
              "  <tbody>\n",
              "    <tr>\n",
              "      <th>0</th>\n",
              "      <td>hello-world</td>\n",
              "      <td>C</td>\n",
              "      <td>compile</td>\n",
              "      <td>0.107809</td>\n",
              "      <td>26333184</td>\n",
              "    </tr>\n",
              "    <tr>\n",
              "      <th>1</th>\n",
              "      <td>hello-world</td>\n",
              "      <td>C</td>\n",
              "      <td>run</td>\n",
              "      <td>0.001801</td>\n",
              "      <td>692224</td>\n",
              "    </tr>\n",
              "    <tr>\n",
              "      <th>2</th>\n",
              "      <td>hello-world</td>\n",
              "      <td>C</td>\n",
              "      <td>run</td>\n",
              "      <td>0.001541</td>\n",
              "      <td>671744</td>\n",
              "    </tr>\n",
              "    <tr>\n",
              "      <th>3</th>\n",
              "      <td>hello-world</td>\n",
              "      <td>C</td>\n",
              "      <td>run</td>\n",
              "      <td>0.001633</td>\n",
              "      <td>671744</td>\n",
              "    </tr>\n",
              "    <tr>\n",
              "      <th>4</th>\n",
              "      <td>hello-world</td>\n",
              "      <td>C</td>\n",
              "      <td>run</td>\n",
              "      <td>0.001727</td>\n",
              "      <td>679936</td>\n",
              "    </tr>\n",
              "    <tr>\n",
              "      <th>...</th>\n",
              "      <td>...</td>\n",
              "      <td>...</td>\n",
              "      <td>...</td>\n",
              "      <td>...</td>\n",
              "      <td>...</td>\n",
              "    </tr>\n",
              "    <tr>\n",
              "      <th>103</th>\n",
              "      <td>fibonacci</td>\n",
              "      <td>Python</td>\n",
              "      <td>run</td>\n",
              "      <td>4.305294</td>\n",
              "      <td>5947392</td>\n",
              "    </tr>\n",
              "    <tr>\n",
              "      <th>104</th>\n",
              "      <td>fibonacci</td>\n",
              "      <td>Python</td>\n",
              "      <td>run</td>\n",
              "      <td>4.386798</td>\n",
              "      <td>5947392</td>\n",
              "    </tr>\n",
              "    <tr>\n",
              "      <th>105</th>\n",
              "      <td>fibonacci</td>\n",
              "      <td>Python</td>\n",
              "      <td>run</td>\n",
              "      <td>4.308541</td>\n",
              "      <td>5959680</td>\n",
              "    </tr>\n",
              "    <tr>\n",
              "      <th>106</th>\n",
              "      <td>fibonacci</td>\n",
              "      <td>Python</td>\n",
              "      <td>run</td>\n",
              "      <td>4.278495</td>\n",
              "      <td>5971968</td>\n",
              "    </tr>\n",
              "    <tr>\n",
              "      <th>107</th>\n",
              "      <td>fibonacci</td>\n",
              "      <td>Python</td>\n",
              "      <td>run</td>\n",
              "      <td>4.258780</td>\n",
              "      <td>5967872</td>\n",
              "    </tr>\n",
              "  </tbody>\n",
              "</table>\n",
              "<p>108 rows × 5 columns</p>\n",
              "</div>\n",
              "      <button class=\"colab-df-convert\" onclick=\"convertToInteractive('df-e940f26b-393a-4274-a0e8-ed8d31ecb569')\"\n",
              "              title=\"Convert this dataframe to an interactive table.\"\n",
              "              style=\"display:none;\">\n",
              "        \n",
              "  <svg xmlns=\"http://www.w3.org/2000/svg\" height=\"24px\"viewBox=\"0 0 24 24\"\n",
              "       width=\"24px\">\n",
              "    <path d=\"M0 0h24v24H0V0z\" fill=\"none\"/>\n",
              "    <path d=\"M18.56 5.44l.94 2.06.94-2.06 2.06-.94-2.06-.94-.94-2.06-.94 2.06-2.06.94zm-11 1L8.5 8.5l.94-2.06 2.06-.94-2.06-.94L8.5 2.5l-.94 2.06-2.06.94zm10 10l.94 2.06.94-2.06 2.06-.94-2.06-.94-.94-2.06-.94 2.06-2.06.94z\"/><path d=\"M17.41 7.96l-1.37-1.37c-.4-.4-.92-.59-1.43-.59-.52 0-1.04.2-1.43.59L10.3 9.45l-7.72 7.72c-.78.78-.78 2.05 0 2.83L4 21.41c.39.39.9.59 1.41.59.51 0 1.02-.2 1.41-.59l7.78-7.78 2.81-2.81c.8-.78.8-2.07 0-2.86zM5.41 20L4 18.59l7.72-7.72 1.47 1.35L5.41 20z\"/>\n",
              "  </svg>\n",
              "      </button>\n",
              "      \n",
              "  <style>\n",
              "    .colab-df-container {\n",
              "      display:flex;\n",
              "      flex-wrap:wrap;\n",
              "      gap: 12px;\n",
              "    }\n",
              "\n",
              "    .colab-df-convert {\n",
              "      background-color: #E8F0FE;\n",
              "      border: none;\n",
              "      border-radius: 50%;\n",
              "      cursor: pointer;\n",
              "      display: none;\n",
              "      fill: #1967D2;\n",
              "      height: 32px;\n",
              "      padding: 0 0 0 0;\n",
              "      width: 32px;\n",
              "    }\n",
              "\n",
              "    .colab-df-convert:hover {\n",
              "      background-color: #E2EBFA;\n",
              "      box-shadow: 0px 1px 2px rgba(60, 64, 67, 0.3), 0px 1px 3px 1px rgba(60, 64, 67, 0.15);\n",
              "      fill: #174EA6;\n",
              "    }\n",
              "\n",
              "    [theme=dark] .colab-df-convert {\n",
              "      background-color: #3B4455;\n",
              "      fill: #D2E3FC;\n",
              "    }\n",
              "\n",
              "    [theme=dark] .colab-df-convert:hover {\n",
              "      background-color: #434B5C;\n",
              "      box-shadow: 0px 1px 3px 1px rgba(0, 0, 0, 0.15);\n",
              "      filter: drop-shadow(0px 1px 2px rgba(0, 0, 0, 0.3));\n",
              "      fill: #FFFFFF;\n",
              "    }\n",
              "  </style>\n",
              "\n",
              "      <script>\n",
              "        const buttonEl =\n",
              "          document.querySelector('#df-e940f26b-393a-4274-a0e8-ed8d31ecb569 button.colab-df-convert');\n",
              "        buttonEl.style.display =\n",
              "          google.colab.kernel.accessAllowed ? 'block' : 'none';\n",
              "\n",
              "        async function convertToInteractive(key) {\n",
              "          const element = document.querySelector('#df-e940f26b-393a-4274-a0e8-ed8d31ecb569');\n",
              "          const dataTable =\n",
              "            await google.colab.kernel.invokeFunction('convertToInteractive',\n",
              "                                                     [key], {});\n",
              "          if (!dataTable) return;\n",
              "\n",
              "          const docLinkHtml = 'Like what you see? Visit the ' +\n",
              "            '<a target=\"_blank\" href=https://colab.research.google.com/notebooks/data_table.ipynb>data table notebook</a>'\n",
              "            + ' to learn more about interactive tables.';\n",
              "          element.innerHTML = '';\n",
              "          dataTable['output_type'] = 'display_data';\n",
              "          await google.colab.output.renderOutput(dataTable, element);\n",
              "          const docLink = document.createElement('div');\n",
              "          docLink.innerHTML = docLinkHtml;\n",
              "          element.appendChild(docLink);\n",
              "        }\n",
              "      </script>\n",
              "    </div>\n",
              "  </div>\n",
              "  "
            ],
            "text/plain": [
              "            name language    phase      time    memory\n",
              "0    hello-world        C  compile  0.107809  26333184\n",
              "1    hello-world        C      run  0.001801    692224\n",
              "2    hello-world        C      run  0.001541    671744\n",
              "3    hello-world        C      run  0.001633    671744\n",
              "4    hello-world        C      run  0.001727    679936\n",
              "..           ...      ...      ...       ...       ...\n",
              "103    fibonacci   Python      run  4.305294   5947392\n",
              "104    fibonacci   Python      run  4.386798   5947392\n",
              "105    fibonacci   Python      run  4.308541   5959680\n",
              "106    fibonacci   Python      run  4.278495   5971968\n",
              "107    fibonacci   Python      run  4.258780   5967872\n",
              "\n",
              "[108 rows x 5 columns]"
            ]
          },
          "execution_count": 98,
          "metadata": {},
          "output_type": "execute_result"
        }
      ],
      "source": [
        "import pandas as pd\n",
        "\n",
        "results = pd.read_csv('results.csv')\n",
        "results"
      ]
    },
    {
      "cell_type": "code",
      "execution_count": 117,
      "metadata": {
        "colab": {
          "base_uri": "https://localhost:8080/",
          "height": 454
        },
        "id": "R-j72KNx3tm0",
        "outputId": "1a2fad97-c51f-4ce8-d516-4a23f1779a58"
      },
      "outputs": [
        {
          "data": {
            "text/plain": [
              "<seaborn.axisgrid.FacetGrid at 0x7f95c0ca4650>"
            ]
          },
          "execution_count": 117,
          "metadata": {},
          "output_type": "execute_result"
        },
        {
          "data": {
            "image/png": "[encoded data removed]",
            "text/plain": [
              "<Figure size 1296x432 with 4 Axes>"
            ]
          },
          "metadata": {},
          "output_type": "display_data"
        }
      ],
      "source": [
        "import seaborn as sns\n",
        "\n",
        "g = sns.FacetGrid(results, col=\"phase\", row='name', sharex=False, height=3, aspect=3)\n",
        "g.map_dataframe(sns.barplot, 'time', 'language')"
      ]
    }
  ],
  "metadata": {
    "colab": {
      "name": "Benchmark results",
      "provenance": []
    },
    "kernelspec": {
      "display_name": "Python 3.10.0 ('env': venv)",
      "language": "python",
      "name": "python3"
    },
    "language_info": {
      "name": "python",
      "version": "3.10.0"
    },
    "vscode": {
      "interpreter": {
        "hash": "6c46036053b43afeaf31bf16270222a8c5ae556378358f6d9f1d9a0463246d31"
      }
    }
  },
  "nbformat": 4,
  "nbformat_minor": 0
}
